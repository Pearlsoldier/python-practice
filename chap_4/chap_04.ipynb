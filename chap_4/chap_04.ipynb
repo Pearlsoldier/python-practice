{
 "cells": [
  {
   "cell_type": "code",
   "execution_count": 1,
   "metadata": {},
   "outputs": [
    {
     "name": "stdout",
     "output_type": "stream",
     "text": [
      "w\n"
     ]
    }
   ],
   "source": [
    "disaster = True\n",
    "if disaster:\n",
    "    print(\"w\")\n",
    "else:\n",
    "    print(\"f\")"
   ]
  },
  {
   "cell_type": "code",
   "execution_count": 2,
   "metadata": {},
   "outputs": [],
   "source": [
    "x = 7"
   ]
  },
  {
   "cell_type": "code",
   "execution_count": 3,
   "metadata": {},
   "outputs": [
    {
     "data": {
      "text/plain": [
       "False"
      ]
     },
     "execution_count": 3,
     "metadata": {},
     "output_type": "execute_result"
    }
   ],
   "source": [
    "x == 5"
   ]
  },
  {
   "cell_type": "code",
   "execution_count": 4,
   "metadata": {},
   "outputs": [
    {
     "data": {
      "text/plain": [
       "True"
      ]
     },
     "execution_count": 4,
     "metadata": {},
     "output_type": "execute_result"
    }
   ],
   "source": [
    "x == 7"
   ]
  },
  {
   "cell_type": "code",
   "execution_count": 6,
   "metadata": {},
   "outputs": [
    {
     "data": {
      "text/plain": [
       "True"
      ]
     },
     "execution_count": 6,
     "metadata": {},
     "output_type": "execute_result"
    }
   ],
   "source": [
    "5 <= x"
   ]
  },
  {
   "cell_type": "code",
   "execution_count": 7,
   "metadata": {},
   "outputs": [
    {
     "data": {
      "text/plain": [
       "True"
      ]
     },
     "execution_count": 7,
     "metadata": {},
     "output_type": "execute_result"
    }
   ],
   "source": [
    "x <= 10"
   ]
  },
  {
   "cell_type": "code",
   "execution_count": 8,
   "metadata": {},
   "outputs": [
    {
     "name": "stdout",
     "output_type": "stream",
     "text": [
      "empty\n"
     ]
    }
   ],
   "source": [
    "some = []\n",
    "if some:\n",
    "    print(\"full\")\n",
    "else:\n",
    "    print(\"empty\")\n",
    "    "
   ]
  },
  {
   "cell_type": "code",
   "execution_count": 9,
   "metadata": {},
   "outputs": [
    {
     "name": "stdout",
     "output_type": "stream",
     "text": [
      "1\n",
      "2\n",
      "3\n",
      "4\n",
      "5\n"
     ]
    }
   ],
   "source": [
    "count = 1\n",
    "while count <= 5:\n",
    "    print(count)\n",
    "    count += 1\n"
   ]
  },
  {
   "cell_type": "code",
   "execution_count": 16,
   "metadata": {},
   "outputs": [
    {
     "name": "stdout",
     "output_type": "stream",
     "text": [
      "1 1\n",
      "3 9\n"
     ]
    }
   ],
   "source": [
    "while True:\n",
    "    value = input(\"String[type q to quit]:\")\n",
    "    if value == \"q\":\n",
    "        break\n",
    "    number = int(value)\n",
    "    if number % 2 == 0:\n",
    "        continue\n",
    "    print(number,number*number)"
   ]
  },
  {
   "cell_type": "code",
   "execution_count": 17,
   "metadata": {},
   "outputs": [
    {
     "name": "stdout",
     "output_type": "stream",
     "text": [
      "no\n"
     ]
    }
   ],
   "source": [
    "numbers = [1, 3, 5]\n",
    "position = 0\n",
    "while position < len(numbers):\n",
    "    number = numbers[position]\n",
    "    if number % 2 == 0:\n",
    "        print(\"Found\", number)\n",
    "        break\n",
    "    position += 1\n",
    "else:\n",
    "    print(\"no\")"
   ]
  },
  {
   "cell_type": "code",
   "execution_count": 18,
   "metadata": {},
   "outputs": [
    {
     "name": "stdout",
     "output_type": "stream",
     "text": [
      "fllo\n",
      "bunn\n",
      "pettr\n"
     ]
    }
   ],
   "source": [
    "rabbits = [\"fllo\", \"bunn\", \"pettr\"]\n",
    "for rabbit in rabbits:\n",
    "    print(rabbit)"
   ]
  },
  {
   "cell_type": "code",
   "execution_count": 19,
   "metadata": {},
   "outputs": [],
   "source": [
    "accusation = {\"room\": \"ballroom\", \"wepon\": \"lead pipe\"}"
   ]
  },
  {
   "cell_type": "code",
   "execution_count": 21,
   "metadata": {},
   "outputs": [
    {
     "name": "stdout",
     "output_type": "stream",
     "text": [
      "room\n",
      "wepon\n",
      "('room', 'ballroom')\n",
      "('wepon', 'lead pipe')\n"
     ]
    }
   ],
   "source": [
    "for card in accusation:\n",
    "    print(card)\n",
    "\n",
    "for value in accusation.items():\n",
    "    print(value)"
   ]
  },
  {
   "cell_type": "code",
   "execution_count": 24,
   "metadata": {},
   "outputs": [],
   "source": [
    "days = ['Monday', 'Tuesday', 'Wednesday' ]\n",
    "fruits = [\"banana\", \"orange\", \"peach\"]\n",
    "drinks = [\"coffee\", \"cola\", \"beer\"]\n"
   ]
  },
  {
   "cell_type": "code",
   "execution_count": null,
   "metadata": {},
   "outputs": [],
   "source": [
    "for day,frute, drink in zip(days,fruits, drinks):\n",
    "    print(day, frute, drink)"
   ]
  },
  {
   "cell_type": "code",
   "execution_count": 25,
   "metadata": {},
   "outputs": [
    {
     "data": {
      "text/plain": [
       "[('Monday', 'banana'), ('Tuesday', 'orange'), ('Wednesday', 'peach')]"
      ]
     },
     "execution_count": 25,
     "metadata": {},
     "output_type": "execute_result"
    }
   ],
   "source": [
    "list(zip(days, fruits))"
   ]
  },
  {
   "cell_type": "code",
   "execution_count": 26,
   "metadata": {},
   "outputs": [
    {
     "data": {
      "text/plain": [
       "{'Monday': 'coffee', 'Tuesday': 'cola', 'Wednesday': 'beer'}"
      ]
     },
     "execution_count": 26,
     "metadata": {},
     "output_type": "execute_result"
    }
   ],
   "source": [
    "dict(zip(days, drinks))"
   ]
  },
  {
   "cell_type": "code",
   "execution_count": 29,
   "metadata": {},
   "outputs": [
    {
     "name": "stdout",
     "output_type": "stream",
     "text": [
      "2\n",
      "1\n",
      "0\n"
     ]
    }
   ],
   "source": [
    "for x in range(2, -1, -1):\n",
    "    print(x)"
   ]
  },
  {
   "cell_type": "code",
   "execution_count": 30,
   "metadata": {},
   "outputs": [
    {
     "data": {
      "text/plain": [
       "[0, 2, 4, 6, 8, 10]"
      ]
     },
     "execution_count": 30,
     "metadata": {},
     "output_type": "execute_result"
    }
   ],
   "source": [
    "list(range(0, 11, 2))"
   ]
  },
  {
   "cell_type": "code",
   "execution_count": 31,
   "metadata": {},
   "outputs": [
    {
     "data": {
      "text/plain": [
       "[1, 2, 3, 4, 5]"
      ]
     },
     "execution_count": 31,
     "metadata": {},
     "output_type": "execute_result"
    }
   ],
   "source": [
    "number_list = [number for number in range(1, 6)]\n",
    "number_list"
   ]
  },
  {
   "cell_type": "code",
   "execution_count": 37,
   "metadata": {},
   "outputs": [
    {
     "data": {
      "text/plain": [
       "[0, 1, 2, 3, 4, 5]"
      ]
     },
     "execution_count": 37,
     "metadata": {},
     "output_type": "execute_result"
    }
   ],
   "source": [
    "number_list = [number-1 for number in range(1, 7)]\n",
    "number_list"
   ]
  },
  {
   "cell_type": "code",
   "execution_count": 38,
   "metadata": {},
   "outputs": [
    {
     "name": "stdout",
     "output_type": "stream",
     "text": [
      "元の値: 1, -1 をすると: 0\n",
      "元の値: 2, -1 をすると: 1\n",
      "元の値: 3, -1 をすると: 2\n",
      "元の値: 4, -1 をすると: 3\n",
      "元の値: 5, -1 をすると: 4\n",
      "元の値: 6, -1 をすると: 5\n"
     ]
    }
   ],
   "source": [
    "for number in range(1, 7):\n",
    "    print(f\"元の値: {number}, -1 をすると: {number - 1}\")"
   ]
  },
  {
   "cell_type": "code",
   "execution_count": 42,
   "metadata": {},
   "outputs": [
    {
     "data": {
      "text/plain": [
       "[1, 9, 25]"
      ]
     },
     "execution_count": 42,
     "metadata": {},
     "output_type": "execute_result"
    }
   ],
   "source": [
    "a_list = [number**2 for number in range(1, 6) if number % 2 == 1]\n",
    "a_list"
   ]
  },
  {
   "cell_type": "code",
   "execution_count": 43,
   "metadata": {},
   "outputs": [],
   "source": [
    "rows = range(1, 4)\n",
    "cols = range(1, 3)"
   ]
  },
  {
   "cell_type": "code",
   "execution_count": 44,
   "metadata": {},
   "outputs": [
    {
     "name": "stdout",
     "output_type": "stream",
     "text": [
      "1 1\n",
      "1 2\n",
      "2 1\n",
      "2 2\n",
      "3 1\n",
      "3 2\n"
     ]
    }
   ],
   "source": [
    "for i in rows:\n",
    "    for j in cols:\n",
    "        print(i, j)"
   ]
  },
  {
   "cell_type": "code",
   "execution_count": 48,
   "metadata": {},
   "outputs": [
    {
     "name": "stdout",
     "output_type": "stream",
     "text": [
      "[(1, 1), (1, 2), (2, 1), (2, 2), (3, 1), (3, 2)]\n",
      "(1, 1)\n",
      "(1, 2)\n",
      "(2, 1)\n",
      "(2, 2)\n",
      "(3, 1)\n",
      "(3, 2)\n"
     ]
    }
   ],
   "source": [
    "cells = [(i, j) for i in rows for j in cols]\n",
    "print(cells)\n",
    "for cell in cells:\n",
    "    print(cell)"
   ]
  },
  {
   "cell_type": "code",
   "execution_count": 50,
   "metadata": {},
   "outputs": [
    {
     "name": "stdout",
     "output_type": "stream",
     "text": [
      "1 1\n",
      "1 2\n",
      "2 1\n",
      "2 2\n",
      "3 1\n",
      "3 2\n"
     ]
    }
   ],
   "source": [
    "for row, col in cells:\n",
    "    print(row, col)"
   ]
  },
  {
   "cell_type": "code",
   "execution_count": 51,
   "metadata": {},
   "outputs": [
    {
     "data": {
      "text/plain": [
       "{'l': 1, 'e': 2, 't': 2, 'r': 1, 's': 1}"
      ]
     },
     "execution_count": 51,
     "metadata": {},
     "output_type": "execute_result"
    }
   ],
   "source": [
    "word = \"letters\"\n",
    "letter_counts = {letter: word.count(letter) for letter in word}\n",
    "letter_counts"
   ]
  },
  {
   "cell_type": "code",
   "execution_count": 7,
   "metadata": {},
   "outputs": [],
   "source": [
    "def agree():\n",
    "    return True\n",
    "\n"
   ]
  },
  {
   "cell_type": "code",
   "execution_count": 8,
   "metadata": {},
   "outputs": [
    {
     "name": "stdout",
     "output_type": "stream",
     "text": [
      "splendind!\n"
     ]
    }
   ],
   "source": [
    "if agree():\n",
    "    print(\"splendind!\")\n",
    "else:\n",
    "    print(\"That was unexpected.\")"
   ]
  },
  {
   "cell_type": "code",
   "execution_count": 11,
   "metadata": {},
   "outputs": [
    {
     "data": {
      "text/plain": [
       "'HelloHello'"
      ]
     },
     "execution_count": 11,
     "metadata": {},
     "output_type": "execute_result"
    }
   ],
   "source": [
    "def echo(anything):\n",
    "    return anything + \"\" + anything\n",
    "\n",
    "echo(\"Hello\")"
   ]
  },
  {
   "cell_type": "code",
   "execution_count": 12,
   "metadata": {},
   "outputs": [
    {
     "name": "stdout",
     "output_type": "stream",
     "text": [
      "it's None\n"
     ]
    }
   ],
   "source": [
    "def is_none(thing):\n",
    "    if thing is None:\n",
    "        print(\"it's None\")\n",
    "    elif thing:\n",
    "        print(\"True\")\n",
    "    else:\n",
    "        print(\"False\")\n",
    "\n",
    "is_none(None)"
   ]
  },
  {
   "cell_type": "markdown",
   "metadata": {},
   "source": []
  },
  {
   "cell_type": "code",
   "execution_count": 13,
   "metadata": {},
   "outputs": [
    {
     "name": "stdout",
     "output_type": "stream",
     "text": [
      "True\n"
     ]
    }
   ],
   "source": [
    "is_none(True)"
   ]
  },
  {
   "cell_type": "code",
   "execution_count": 14,
   "metadata": {},
   "outputs": [
    {
     "name": "stdout",
     "output_type": "stream",
     "text": [
      "False\n"
     ]
    }
   ],
   "source": [
    "is_none(0)"
   ]
  },
  {
   "cell_type": "code",
   "execution_count": 20,
   "metadata": {},
   "outputs": [],
   "source": [
    "def menu(wine, entree, dessert=\"pudding\"):\n",
    "    return {'wine': wine, 'entre': entree, 'dessert': dessert}\n"
   ]
  },
  {
   "cell_type": "code",
   "execution_count": 18,
   "metadata": {},
   "outputs": [
    {
     "data": {
      "text/plain": [
       "{'wine': 'beef', 'entre': 'bagel', 'dessert': 'bordeaux'}"
      ]
     },
     "execution_count": 18,
     "metadata": {},
     "output_type": "execute_result"
    }
   ],
   "source": [
    "menu(\"beef\", \"bagel\", \"bordeaux\")"
   ]
  },
  {
   "cell_type": "code",
   "execution_count": 21,
   "metadata": {},
   "outputs": [
    {
     "data": {
      "text/plain": [
       "{'wine': 'bordeaux', 'entre': 'beef', 'dessert': 'pudding'}"
      ]
     },
     "execution_count": 21,
     "metadata": {},
     "output_type": "execute_result"
    }
   ],
   "source": [
    "menu(wine=\"bordeaux\", entree=\"beef\")"
   ]
  },
  {
   "cell_type": "code",
   "execution_count": 22,
   "metadata": {},
   "outputs": [],
   "source": [
    "def buggy(arg, result=[]):\n",
    "    result.append(arg)\n",
    "    print(result)"
   ]
  },
  {
   "cell_type": "code",
   "execution_count": 24,
   "metadata": {},
   "outputs": [
    {
     "name": "stdout",
     "output_type": "stream",
     "text": [
      "['a', 'b']\n"
     ]
    }
   ],
   "source": [
    "buggy(\"b\")"
   ]
  },
  {
   "cell_type": "code",
   "execution_count": 27,
   "metadata": {},
   "outputs": [],
   "source": [
    "def works(arg):\n",
    "    result = []\n",
    "    result.append(arg)\n",
    "    return result"
   ]
  },
  {
   "cell_type": "code",
   "execution_count": 31,
   "metadata": {},
   "outputs": [
    {
     "name": "stdout",
     "output_type": "stream",
     "text": [
      "['d']\n"
     ]
    }
   ],
   "source": [
    "works('d')\n",
    "print(works(\"d\"))"
   ]
  },
  {
   "cell_type": "code",
   "execution_count": null,
   "metadata": {},
   "outputs": [],
   "source": [
    "def nonbuggy(arg, result=None):\n",
    "    if result is None:\n",
    "        result = []\n",
    "        result.append(arg)\n",
    "        print(result)"
   ]
  },
  {
   "cell_type": "code",
   "execution_count": 32,
   "metadata": {},
   "outputs": [],
   "source": [
    "def print_kwargs(**kwargs):\n",
    "    print('Keyword aguments:', kwargs)"
   ]
  },
  {
   "cell_type": "code",
   "execution_count": 34,
   "metadata": {},
   "outputs": [],
   "source": [
    "def more(required1, req2, *args):\n",
    "    print('Need this one:', required1)\n",
    "    print('Need this one two:', req2)\n",
    "    print('Need this all:', args)"
   ]
  },
  {
   "cell_type": "code",
   "execution_count": 39,
   "metadata": {},
   "outputs": [],
   "source": [
    "def runsome(func, a1, a2):\n",
    "    func(a1, a2)"
   ]
  },
  {
   "cell_type": "code",
   "execution_count": 37,
   "metadata": {},
   "outputs": [],
   "source": [
    "def add_args(a1, a2):\n",
    "    print(a1 + a2)"
   ]
  },
  {
   "cell_type": "code",
   "execution_count": 42,
   "metadata": {},
   "outputs": [
    {
     "name": "stdout",
     "output_type": "stream",
     "text": [
      "14\n"
     ]
    }
   ],
   "source": [
    "runsome(add_args, 5, 9)"
   ]
  },
  {
   "cell_type": "code",
   "execution_count": 44,
   "metadata": {},
   "outputs": [
    {
     "ename": "NameError",
     "evalue": "name 'docment_name' is not defined",
     "output_type": "error",
     "traceback": [
      "\u001b[0;31m---------------------------------------------------------------------------\u001b[0m",
      "\u001b[0;31mNameError\u001b[0m                                 Traceback (most recent call last)",
      "Cell \u001b[0;32mIn[44], line 1\u001b[0m\n\u001b[0;32m----> 1\u001b[0m \u001b[38;5;129m@docment_name\u001b[39m\n\u001b[1;32m      2\u001b[0m \u001b[38;5;28;01mdef\u001b[39;00m \u001b[38;5;21madd\u001b[39m(a, b):\n\u001b[1;32m      3\u001b[0m     \u001b[38;5;28;01mreturn\u001b[39;00m a \u001b[38;5;241m+\u001b[39m b\n\u001b[1;32m      5\u001b[0m add(\u001b[38;5;241m3\u001b[39m, \u001b[38;5;241m5\u001b[39m)\n",
      "\u001b[0;31mNameError\u001b[0m: name 'docment_name' is not defined"
     ]
    }
   ],
   "source": [
    "@docment_name\n",
    "def add(a, b):\n",
    "    return a + b\n",
    "\n",
    "add(3, 5)"
   ]
  },
  {
   "cell_type": "code",
   "execution_count": null,
   "metadata": {},
   "outputs": [],
   "source": []
  },
  {
   "cell_type": "markdown",
   "metadata": {},
   "source": [
    "デコレータ\n",
    "ジェンレータ\n",
    "クロージャ\n",
    "ラムダ関数\n",
    "クロージャ\n",
    "デフォルト引数\n"
   ]
  },
  {
   "cell_type": "code",
   "execution_count": 46,
   "metadata": {},
   "outputs": [
    {
     "data": {
      "text/plain": [
       "'fruitbut'"
      ]
     },
     "execution_count": 46,
     "metadata": {},
     "output_type": "execute_result"
    }
   ],
   "source": [
    "animal = 'fruitbut'\n",
    "def cange_local():\n",
    "    animal = \"wonbat\"\n",
    "    print('locals:', locals())\n",
    "\n",
    "animal"
   ]
  },
  {
   "cell_type": "code",
   "execution_count": 47,
   "metadata": {},
   "outputs": [
    {
     "name": "stdout",
     "output_type": "stream",
     "text": [
      "locals: {'animal': 'wonbat'}\n"
     ]
    }
   ],
   "source": [
    "cange_local()"
   ]
  },
  {
   "cell_type": "code",
   "execution_count": 49,
   "metadata": {},
   "outputs": [
    {
     "name": "stdout",
     "output_type": "stream",
     "text": [
      "globals: {'__name__': '__main__', '__doc__': 'Automatically created module for IPython interactive environment', '__package__': None, '__loader__': None, '__spec__': None, '__builtin__': <module 'builtins' (built-in)>, '__builtins__': <module 'builtins' (built-in)>, '_ih': ['', 'def agrew():\\n    return True:', 'def agrew():\\n    return True', 'if agree():\\n    print(\"splendind!\")\\nelse:\\n    print(\"That was unexpected.\")', 'def agrew():\\n    return True', 'if agree():\\n    print(\"splendind!\")\\nelse:\\n    print(\"That was unexpected.\")', 'def agrew():\\n    return True\\n\\nif agree():\\n    print(\"splendind!\")\\nelse:\\n    print(\"That was unexpected.\")', 'def agree():\\n    return True', 'if agree():\\n    print(\"splendind!\")\\nelse:\\n    print(\"That was unexpected.\")', 'def echo(anything):\\n    return + \"\" + anything', 'def echo(anything):\\n    return + \"\" + anything\\n\\necho(\"Hello\")', 'def echo(anything):\\n    return anything + \"\" + anything\\n\\necho(\"Hello\")', 'def is_none(thing):\\n    if thing is None:\\n        print(\"it\\'s None\")\\n    elif thing:\\n        print(\"True\")\\n    else:\\n        print(\"False\")\\n\\nis_none(None)', 'is_none(True)', 'is_none(0)', \"def menu(wine, entree, dessert):\\n    return ('wine': wine, 'entre': entree, 'dessert': dessert)\", \"def menu(wine, entree, dessert):\\n    return {'wine': wine, 'entre': entree, 'dessert': dessert}\", 'menu(\"beef\", \"bagel\", \"bordeaux\")', 'menu(\"beef\", \"bagel\", \"bordeaux\")', 'menu(dessert=\"bagel\", wine=\"bordeaux\", entree=\"beef\")', 'def menu(wine, entree, dessert=\"pudding\"):\\n    return {\\'wine\\': wine, \\'entre\\': entree, \\'dessert\\': dessert}', 'menu(wine=\"bordeaux\", entree=\"beef\")', 'def buggy(arg, result=[]):\\n    result.append(arg)\\n    print(result)', 'buggy(\"a\")', 'buggy(\"b\")', 'def works(arg):\\n    result = []\\n    result.append(arg)\\n    return result', \"works('c')\", 'def works(arg):\\n    result = []\\n    result.append(arg)\\n    return result', \"works('c')\", 'works(\\'c\\')\\nprint(works(\"c\"))', 'works(\\'d\\')\\nprint(works(\"c\"))', 'works(\\'d\\')\\nprint(works(\"d\"))', \"def print_kwargs(**kwargs):\\n    print('Keyword aguments:', kwargs)\", \"def more(required1, req2, *args):\\n    print('Need this one:', required1)\", \"def more(required1, req2, *args):\\n    print('Need this one:', required1)\\n    print('Need this one two:', req2)\\n    print('Need this all:', args)\", 'def runsome(func, a1, a2):\\n    func(a1, a2)', 'def add_args(a1, a2)\\n    print(a1 + a2)', 'def add_args(a1, a2):\\n    print(a1 + a2)', 'runsome(add_args, 5, 9)', 'def runsome(func, a1, a2):\\n    func(a1, a2)', 'runsome(add_args, 5, 9)', 'print(runsome(add_args, 5, 9))', 'runsome(add_args, 5, 9)', '@docment_it\\ndef add(a, b):\\n    return a + b\\n\\nadd(3, 5)', '@docment_name\\ndef add(a, b):\\n    return a + b\\n\\nadd(3, 5)', 'animal = \\'fruitbut\\'\\ndef cange_local():\\n    animal = \"wonbat\"\\n    print(\\'locals\\': locals())\\n\\nanimal', 'animal = \\'fruitbut\\'\\ndef cange_local():\\n    animal = \"wonbat\"\\n    print(\\'locals:\\', locals())\\n\\nanimal', 'cange_local()', \"print('globals:', globals())\", \"print('globals:', globals())\\nanimal\"], '_oh': {11: 'HelloHello', 17: {'wine': 'beef', 'entre': 'bagel', 'dessert': 'bordeaux'}, 18: {'wine': 'beef', 'entre': 'bagel', 'dessert': 'bordeaux'}, 19: {'wine': 'bordeaux', 'entre': 'beef', 'dessert': 'bagel'}, 21: {'wine': 'bordeaux', 'entre': 'beef', 'dessert': 'pudding'}, 26: ['c'], 28: ['c'], 46: 'fruitbut'}, '_dh': [PosixPath('/Users/marumotodaiki/zishu/python_practice/chap_4')], 'In': ['', 'def agrew():\\n    return True:', 'def agrew():\\n    return True', 'if agree():\\n    print(\"splendind!\")\\nelse:\\n    print(\"That was unexpected.\")', 'def agrew():\\n    return True', 'if agree():\\n    print(\"splendind!\")\\nelse:\\n    print(\"That was unexpected.\")', 'def agrew():\\n    return True\\n\\nif agree():\\n    print(\"splendind!\")\\nelse:\\n    print(\"That was unexpected.\")', 'def agree():\\n    return True', 'if agree():\\n    print(\"splendind!\")\\nelse:\\n    print(\"That was unexpected.\")', 'def echo(anything):\\n    return + \"\" + anything', 'def echo(anything):\\n    return + \"\" + anything\\n\\necho(\"Hello\")', 'def echo(anything):\\n    return anything + \"\" + anything\\n\\necho(\"Hello\")', 'def is_none(thing):\\n    if thing is None:\\n        print(\"it\\'s None\")\\n    elif thing:\\n        print(\"True\")\\n    else:\\n        print(\"False\")\\n\\nis_none(None)', 'is_none(True)', 'is_none(0)', \"def menu(wine, entree, dessert):\\n    return ('wine': wine, 'entre': entree, 'dessert': dessert)\", \"def menu(wine, entree, dessert):\\n    return {'wine': wine, 'entre': entree, 'dessert': dessert}\", 'menu(\"beef\", \"bagel\", \"bordeaux\")', 'menu(\"beef\", \"bagel\", \"bordeaux\")', 'menu(dessert=\"bagel\", wine=\"bordeaux\", entree=\"beef\")', 'def menu(wine, entree, dessert=\"pudding\"):\\n    return {\\'wine\\': wine, \\'entre\\': entree, \\'dessert\\': dessert}', 'menu(wine=\"bordeaux\", entree=\"beef\")', 'def buggy(arg, result=[]):\\n    result.append(arg)\\n    print(result)', 'buggy(\"a\")', 'buggy(\"b\")', 'def works(arg):\\n    result = []\\n    result.append(arg)\\n    return result', \"works('c')\", 'def works(arg):\\n    result = []\\n    result.append(arg)\\n    return result', \"works('c')\", 'works(\\'c\\')\\nprint(works(\"c\"))', 'works(\\'d\\')\\nprint(works(\"c\"))', 'works(\\'d\\')\\nprint(works(\"d\"))', \"def print_kwargs(**kwargs):\\n    print('Keyword aguments:', kwargs)\", \"def more(required1, req2, *args):\\n    print('Need this one:', required1)\", \"def more(required1, req2, *args):\\n    print('Need this one:', required1)\\n    print('Need this one two:', req2)\\n    print('Need this all:', args)\", 'def runsome(func, a1, a2):\\n    func(a1, a2)', 'def add_args(a1, a2)\\n    print(a1 + a2)', 'def add_args(a1, a2):\\n    print(a1 + a2)', 'runsome(add_args, 5, 9)', 'def runsome(func, a1, a2):\\n    func(a1, a2)', 'runsome(add_args, 5, 9)', 'print(runsome(add_args, 5, 9))', 'runsome(add_args, 5, 9)', '@docment_it\\ndef add(a, b):\\n    return a + b\\n\\nadd(3, 5)', '@docment_name\\ndef add(a, b):\\n    return a + b\\n\\nadd(3, 5)', 'animal = \\'fruitbut\\'\\ndef cange_local():\\n    animal = \"wonbat\"\\n    print(\\'locals\\': locals())\\n\\nanimal', 'animal = \\'fruitbut\\'\\ndef cange_local():\\n    animal = \"wonbat\"\\n    print(\\'locals:\\', locals())\\n\\nanimal', 'cange_local()', \"print('globals:', globals())\", \"print('globals:', globals())\\nanimal\"], 'Out': {11: 'HelloHello', 17: {'wine': 'beef', 'entre': 'bagel', 'dessert': 'bordeaux'}, 18: {'wine': 'beef', 'entre': 'bagel', 'dessert': 'bordeaux'}, 19: {'wine': 'bordeaux', 'entre': 'beef', 'dessert': 'bagel'}, 21: {'wine': 'bordeaux', 'entre': 'beef', 'dessert': 'pudding'}, 26: ['c'], 28: ['c'], 46: 'fruitbut'}, 'get_ipython': <bound method InteractiveShell.get_ipython of <ipykernel.zmqshell.ZMQInteractiveShell object at 0x1058e5af0>>, 'exit': <IPython.core.autocall.ZMQExitAutocall object at 0x105782c00>, 'quit': <IPython.core.autocall.ZMQExitAutocall object at 0x105782c00>, 'open': <function open at 0x104a4b100>, '_': 'fruitbut', '__': ['c'], '___': ['c'], '__vsc_ipynb_file__': '/Users/marumotodaiki/zishu/python_practice/chap_4/chap_04.ipynb', '_i': \"print('globals:', globals())\", '_ii': 'cange_local()', '_iii': 'animal = \\'fruitbut\\'\\ndef cange_local():\\n    animal = \"wonbat\"\\n    print(\\'locals:\\', locals())\\n\\nanimal', '_i1': 'def agrew():\\n    return True:', '_i2': 'def agrew():\\n    return True', 'agrew': <function agrew at 0x106774720>, '_i3': 'if agree():\\n    print(\"splendind!\")\\nelse:\\n    print(\"That was unexpected.\")', '_i4': 'def agrew():\\n    return True', '_i5': 'if agree():\\n    print(\"splendind!\")\\nelse:\\n    print(\"That was unexpected.\")', '_i6': 'def agrew():\\n    return True\\n\\nif agree():\\n    print(\"splendind!\")\\nelse:\\n    print(\"That was unexpected.\")', '_i7': 'def agree():\\n    return True', 'agree': <function agree at 0x1067756c0>, '_i8': 'if agree():\\n    print(\"splendind!\")\\nelse:\\n    print(\"That was unexpected.\")', '_i9': 'def echo(anything):\\n    return + \"\" + anything', 'echo': <function echo at 0x1067771a0>, '_i10': 'def echo(anything):\\n    return + \"\" + anything\\n\\necho(\"Hello\")', '_i11': 'def echo(anything):\\n    return anything + \"\" + anything\\n\\necho(\"Hello\")', '_11': 'HelloHello', '_i12': 'def is_none(thing):\\n    if thing is None:\\n        print(\"it\\'s None\")\\n    elif thing:\\n        print(\"True\")\\n    else:\\n        print(\"False\")\\n\\nis_none(None)', 'is_none': <function is_none at 0x1067f9940>, '_i13': 'is_none(True)', '_i14': 'is_none(0)', '_i15': \"def menu(wine, entree, dessert):\\n    return ('wine': wine, 'entre': entree, 'dessert': dessert)\", '_i16': \"def menu(wine, entree, dessert):\\n    return {'wine': wine, 'entre': entree, 'dessert': dessert}\", 'menu': <function menu at 0x10683a3e0>, '_i17': 'menu(\"beef\", \"bagel\", \"bordeaux\")', '_17': {'wine': 'beef', 'entre': 'bagel', 'dessert': 'bordeaux'}, '_i18': 'menu(\"beef\", \"bagel\", \"bordeaux\")', '_18': {'wine': 'beef', 'entre': 'bagel', 'dessert': 'bordeaux'}, '_i19': 'menu(dessert=\"bagel\", wine=\"bordeaux\", entree=\"beef\")', '_19': {'wine': 'bordeaux', 'entre': 'beef', 'dessert': 'bagel'}, '_i20': 'def menu(wine, entree, dessert=\"pudding\"):\\n    return {\\'wine\\': wine, \\'entre\\': entree, \\'dessert\\': dessert}', '_i21': 'menu(wine=\"bordeaux\", entree=\"beef\")', '_21': {'wine': 'bordeaux', 'entre': 'beef', 'dessert': 'pudding'}, '_i22': 'def buggy(arg, result=[]):\\n    result.append(arg)\\n    print(result)', 'buggy': <function buggy at 0x106870540>, '_i23': 'buggy(\"a\")', '_i24': 'buggy(\"b\")', '_i25': 'def works(arg):\\n    result = []\\n    result.append(arg)\\n    return result', 'works': <function works at 0x106870cc0>, '_i26': \"works('c')\", '_26': ['c'], '_i27': 'def works(arg):\\n    result = []\\n    result.append(arg)\\n    return result', '_i28': \"works('c')\", '_28': ['c'], '_i29': 'works(\\'c\\')\\nprint(works(\"c\"))', '_i30': 'works(\\'d\\')\\nprint(works(\"c\"))', '_i31': 'works(\\'d\\')\\nprint(works(\"d\"))', '_i32': \"def print_kwargs(**kwargs):\\n    print('Keyword aguments:', kwargs)\", 'print_kwargs': <function print_kwargs at 0x10689e7a0>, '_i33': \"def more(required1, req2, *args):\\n    print('Need this one:', required1)\", 'more': <function more at 0x1068b0ae0>, '_i34': \"def more(required1, req2, *args):\\n    print('Need this one:', required1)\\n    print('Need this one two:', req2)\\n    print('Need this all:', args)\", '_i35': 'def runsome(func, a1, a2):\\n    func(a1, a2)', 'runsome': <function runsome at 0x106872d40>, '_i36': 'def add_args(a1, a2)\\n    print(a1 + a2)', '_i37': 'def add_args(a1, a2):\\n    print(a1 + a2)', 'add_args': <function add_args at 0x106873560>, '_i38': 'runsome(add_args, 5, 9)', '_i39': 'def runsome(func, a1, a2):\\n    func(a1, a2)', '_i40': 'runsome(add_args, 5, 9)', '_i41': 'print(runsome(add_args, 5, 9))', '_i42': 'runsome(add_args, 5, 9)', '_i43': '@docment_it\\ndef add(a, b):\\n    return a + b\\n\\nadd(3, 5)', '_i44': '@docment_name\\ndef add(a, b):\\n    return a + b\\n\\nadd(3, 5)', '_i45': 'animal = \\'fruitbut\\'\\ndef cange_local():\\n    animal = \"wonbat\"\\n    print(\\'locals\\': locals())\\n\\nanimal', '_i46': 'animal = \\'fruitbut\\'\\ndef cange_local():\\n    animal = \"wonbat\"\\n    print(\\'locals:\\', locals())\\n\\nanimal', 'animal': 'fruitbut', 'cange_local': <function cange_local at 0x10683a160>, '_46': 'fruitbut', '_i47': 'cange_local()', '_i48': \"print('globals:', globals())\", '_i49': \"print('globals:', globals())\\nanimal\"}\n"
     ]
    },
    {
     "data": {
      "text/plain": [
       "'fruitbut'"
      ]
     },
     "execution_count": 49,
     "metadata": {},
     "output_type": "execute_result"
    }
   ],
   "source": [
    "print('globals:', globals())\n",
    "animal"
   ]
  },
  {
   "cell_type": "code",
   "execution_count": 50,
   "metadata": {},
   "outputs": [
    {
     "name": "stdout",
     "output_type": "stream",
     "text": [
      "just right\n"
     ]
    }
   ],
   "source": [
    "guess = 7\n",
    "start = 1\n",
    "\n",
    "while start < guess:\n",
    "    \n",
    "\n",
    "if guess < 7:\n",
    "    print (\"low\")\n",
    "elif 7 < guess:\n",
    "    print(\"high\")\n",
    "else:\n",
    "    print(\"just right\")"
   ]
  },
  {
   "cell_type": "code",
   "execution_count": 51,
   "metadata": {},
   "outputs": [
    {
     "name": "stdout",
     "output_type": "stream",
     "text": [
      "low\n",
      "low\n",
      "low\n",
      "low\n",
      "low\n",
      "low\n",
      "found_it\n"
     ]
    }
   ],
   "source": [
    "guess = 7\n",
    "start = 1\n",
    "\n",
    "while True:\n",
    "    if start < guess:\n",
    "        print('low')\n",
    "    elif start == guess:\n",
    "        print(\"found_it\")\n",
    "        break\n",
    "    elif guess < start:\n",
    "        print(\"oops\")\n",
    "        break\n",
    "    start += 1"
   ]
  },
  {
   "cell_type": "code",
   "execution_count": 53,
   "metadata": {},
   "outputs": [
    {
     "name": "stdout",
     "output_type": "stream",
     "text": [
      "0\n",
      "1\n",
      "2\n",
      "3\n"
     ]
    }
   ],
   "source": [
    "for i in range(4):\n",
    "    print(i)"
   ]
  },
  {
   "cell_type": "code",
   "execution_count": 57,
   "metadata": {},
   "outputs": [
    {
     "name": "stdout",
     "output_type": "stream",
     "text": [
      "[1, 3, 5, 7, 9]\n"
     ]
    }
   ],
   "source": [
    "odd_number = [number for number in range(10) if number % 2 == 1]\n",
    "print(odd_number)"
   ]
  },
  {
   "cell_type": "code",
   "execution_count": 60,
   "metadata": {},
   "outputs": [
    {
     "name": "stdout",
     "output_type": "stream",
     "text": [
      "Got 0\n",
      "Got 1\n",
      "Got 2\n",
      "Got 3\n",
      "Got 4\n",
      "Got 5\n",
      "Got 6\n",
      "Got 7\n",
      "Got 8\n",
      "Got 9\n"
     ]
    }
   ],
   "source": [
    "for thing in (\"Got %s\" % number for number in range(10)):\n",
    "    print(thing)"
   ]
  },
  {
   "cell_type": "code",
   "execution_count": 62,
   "metadata": {},
   "outputs": [
    {
     "name": "stdout",
     "output_type": "stream",
     "text": [
      "['hary', 'Ron', 'hor']\n"
     ]
    }
   ],
   "source": [
    "def good():\n",
    "    return [\"hary\", \"Ron\", \"hor\"]\n",
    "\n",
    "print(good())"
   ]
  },
  {
   "cell_type": "code",
   "execution_count": 65,
   "metadata": {},
   "outputs": [
    {
     "name": "stdout",
     "output_type": "stream",
     "text": [
      "<generator object get_odds at 0x10699a5a0>\n"
     ]
    }
   ],
   "source": [
    "def get_odds():\n",
    "    for number in range(1, 10, 2):\n",
    "        yield number\n",
    "\n",
    "print(get_odds())"
   ]
  },
  {
   "cell_type": "code",
   "execution_count": 66,
   "metadata": {},
   "outputs": [
    {
     "name": "stdout",
     "output_type": "stream",
     "text": [
      "5\n"
     ]
    }
   ],
   "source": [
    "for count, number in enumerate(get_odds(), 1):\n",
    "    if count == 3:\n",
    "        print(number)"
   ]
  },
  {
   "cell_type": "code",
   "execution_count": 74,
   "metadata": {},
   "outputs": [],
   "source": [
    "def test(func):\n",
    "    def new_func(*arg, **key):\n",
    "        print('start')\n",
    "        result = func(*arg, **key)\n",
    "        print('end')\n",
    "        return result\n",
    "    return  new_func\n"
   ]
  },
  {
   "cell_type": "code",
   "execution_count": 75,
   "metadata": {},
   "outputs": [
    {
     "name": "stdout",
     "output_type": "stream",
     "text": [
      "start\n",
      "Hello\n",
      "end\n"
     ]
    }
   ],
   "source": [
    "@test\n",
    "def greeting():\n",
    "    print(\"Hello\")\n",
    "\n",
    "greeting()"
   ]
  },
  {
   "cell_type": "code",
   "execution_count": 77,
   "metadata": {},
   "outputs": [
    {
     "data": {
      "text/plain": [
       "{'Habit': 'monster', 'Fate': 'shop'}"
      ]
     },
     "execution_count": 77,
     "metadata": {},
     "output_type": "execute_result"
    }
   ],
   "source": [
    "title = ['Habit', \"Fate\"]\n",
    "plots = [\"monster\", \"shop\"]\n",
    "movies = dict(zip(title, plots))\n",
    "movies"
   ]
  },
  {
   "cell_type": "code",
   "execution_count": null,
   "metadata": {},
   "outputs": [],
   "source": []
  }
 ],
 "metadata": {
  "kernelspec": {
   "display_name": "3.12.6",
   "language": "python",
   "name": "python3"
  },
  "language_info": {
   "codemirror_mode": {
    "name": "ipython",
    "version": 3
   },
   "file_extension": ".py",
   "mimetype": "text/x-python",
   "name": "python",
   "nbconvert_exporter": "python",
   "pygments_lexer": "ipython3",
   "version": "3.12.6"
  }
 },
 "nbformat": 4,
 "nbformat_minor": 2
}
