{
 "cells": [
  {
   "cell_type": "code",
   "execution_count": 10,
   "metadata": {},
   "outputs": [],
   "source": [
    "class Resipe:\n",
    "    def __init__(self, name: str, ingredients: list[str]) -> None:\n",
    "        self._name: str = name\n",
    "        self._ingredients: list[str] = ingredients\n",
    "\n",
    "    def show_resipe(self) -> None: \n",
    "        print(f\"Resipe of {self._name}:\")\n",
    "        for ingredient in self._ingredients:\n",
    "            print(f' - {ingredient}')\n",
    "    \n",
    "    def calculate_calories(self) -> int:\n",
    "        \"\"\"各子クラスでオーバーライドされる想定\"\"\"\n",
    "        raise NotImplementedError(\"This method should be implemented in a subclass.\")"
   ]
  },
  {
   "cell_type": "code",
   "execution_count": 16,
   "metadata": {},
   "outputs": [],
   "source": [
    "class Pasta(Resipe):\n",
    "    def __init__(self, name: str, ingredients: list[str], sauce_type: str) -> None:\n",
    "        super().__init__(name, ingredients)\n",
    "        self._sauce_type: str = sauce_type\n",
    "\n",
    "    def show_resipe(self) -> None:\n",
    "        super().show_resipe()\n",
    "        print(f'Sauce_type: {self._sauce_type}')\n",
    "    \n",
    "    @property\n",
    "    def calculate_calories(self) -> int:\n",
    "        return 400 + len(self._ingredients) * 50"
   ]
  },
  {
   "cell_type": "code",
   "execution_count": 17,
   "metadata": {},
   "outputs": [],
   "source": [
    "pasta: Pasta = Pasta(\"Spaghetti Bolognese\", [\"spaghetti\", \"minced meat\", \"tomato sauce\"], \"Bolognese\")"
   ]
  },
  {
   "cell_type": "code",
   "execution_count": 13,
   "metadata": {},
   "outputs": [
    {
     "name": "stdout",
     "output_type": "stream",
     "text": [
      "Resipe of Spaghetti Bolognese:\n",
      " - spaghetti\n",
      " - minced meat\n",
      " - tomato sauce\n",
      "Sauce_type: Bolognese\n"
     ]
    }
   ],
   "source": [
    "pasta._ingredients\n",
    "pasta.show_resipe()"
   ]
  },
  {
   "cell_type": "code",
   "execution_count": 18,
   "metadata": {},
   "outputs": [
    {
     "data": {
      "text/plain": [
       "550"
      ]
     },
     "execution_count": 18,
     "metadata": {},
     "output_type": "execute_result"
    }
   ],
   "source": [
    "pasta.calculate_calories"
   ]
  },
  {
   "cell_type": "code",
   "execution_count": null,
   "metadata": {},
   "outputs": [],
   "source": []
  }
 ],
 "metadata": {
  "kernelspec": {
   "display_name": "3.12.6",
   "language": "python",
   "name": "python3"
  },
  "language_info": {
   "codemirror_mode": {
    "name": "ipython",
    "version": 3
   },
   "file_extension": ".py",
   "mimetype": "text/x-python",
   "name": "python",
   "nbconvert_exporter": "python",
   "pygments_lexer": "ipython3",
   "version": "3.12.6"
  }
 },
 "nbformat": 4,
 "nbformat_minor": 2
}
